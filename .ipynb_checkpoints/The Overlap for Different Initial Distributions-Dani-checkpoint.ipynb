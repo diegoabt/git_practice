{
 "cells": [
  {
   "cell_type": "markdown",
   "metadata": {},
   "source": [
    "### Case tdens=1,-1 (uniform, initial distribution equal to 1)."
   ]
  },
  {
   "cell_type": "markdown",
   "metadata": {},
   "source": [
    "hola!"
   ]
  },
  {
   "cell_type": "markdown",
   "metadata": {},
   "source": [
    "![Case tdens=2](../../routing_optimization-master/src/runs/uniform_tdens/output/data_graph/graph_plot1.jpeg)"
   ]
  },
  {
   "cell_type": "markdown",
   "metadata": {},
   "source": [
    "<img src=\"../../routing_optimization-master/src/runs/uniform_tdens/output/data_graph/dendrogram.jpeg\" width=\"600\">"
   ]
  },
  {
   "cell_type": "markdown",
   "metadata": {},
   "source": [
    "<img src=\"../../routing_optimization-master/src/runs/uniform_tdens/output/data_graph/overlapping_graph.jpeg\" width=\"600\">"
   ]
  },
  {
   "cell_type": "markdown",
   "metadata": {},
   "source": [
    "<img src=\"../../routing_optimization-master/src/runs/uniform_tdens/output/data_graph/overlapping_graph.jpeg\" width=\"600\">"
   ]
  },
  {
   "cell_type": "markdown",
   "metadata": {},
   "source": [
    "<img src=\"../../routing_optimization-master/src/runs/uniform_tdens/output/data_graph/overlapping_error.jpeg\" width=\"600\">"
   ]
  },
  {
   "cell_type": "markdown",
   "metadata": {},
   "source": [
    "### Case tdens=2,-2 (parabollic, convex & centered at (0.5,0.5))"
   ]
  },
  {
   "cell_type": "markdown",
   "metadata": {},
   "source": [
    "<img src=\"../../routing_optimization-master/src/runs/par2_tdens/output/data_graph/tdens.jpeg\" width=\"400\">"
   ]
  },
  {
   "cell_type": "markdown",
   "metadata": {},
   "source": [
    "![Case tdens=2](../../routing_optimization-master/src/runs/par2_tdens/output/data_graph/graph_plot2.jpeg)"
   ]
  },
  {
   "cell_type": "markdown",
   "metadata": {},
   "source": [
    "<img src=\"../../routing_optimization-master/src/runs/par2_tdens/output/data_graph/dendrogram.jpeg\" width=\"600\">"
   ]
  },
  {
   "cell_type": "markdown",
   "metadata": {},
   "source": [
    "<img src=\"../../routing_optimization-master/src/runs/par2_tdens/output/data_graph/overlapping_graph.jpeg\" width=\"600\">"
   ]
  },
  {
   "cell_type": "markdown",
   "metadata": {},
   "source": [
    "<img src=\"../../routing_optimization-master/src/runs/par2_tdens/output/data_graph/overlapping_error.jpeg\" width=\"600\">"
   ]
  },
  {
   "cell_type": "markdown",
   "metadata": {},
   "source": [
    "### Case tdens=-3 (parabollic, concave & centered at (0.5,0.5))"
   ]
  },
  {
   "cell_type": "markdown",
   "metadata": {},
   "source": [
    "<img src=\"../../routing_optimization-master/src/runs/par3_tdens/output/data_graph/tdens.jpeg\" width=\"400\">"
   ]
  },
  {
   "cell_type": "markdown",
   "metadata": {},
   "source": [
    "![Case tdens=2](../../routing_optimization-master/src/runs/par3_tdens/output/data_graph/graph_plot3.jpeg)"
   ]
  },
  {
   "cell_type": "markdown",
   "metadata": {},
   "source": [
    "<img src=\"../../routing_optimization-master/src/runs/par3_tdens/output/data_graph/dendrogram.jpeg\" width=\"600\">"
   ]
  },
  {
   "cell_type": "markdown",
   "metadata": {},
   "source": [
    "<img src=\"../../routing_optimization-master/src/runs/par3_tdens/output/data_graph/overlapping_graph.jpeg\" width=\"600\">"
   ]
  },
  {
   "cell_type": "markdown",
   "metadata": {},
   "source": [
    "<img src=\"../../routing_optimization-master/src/runs/par3_tdens/output/data_graph/overlapping_error.jpeg\" width=\"600\">"
   ]
  },
  {
   "cell_type": "markdown",
   "metadata": {},
   "source": [
    "### Case tdens=-4 (two parabolas)"
   ]
  },
  {
   "cell_type": "markdown",
   "metadata": {},
   "source": [
    "<img src=\"../../routing_optimization-master/src/runs/2par_m4/output/data_graph/tdens.jpeg\" width=\"400\">"
   ]
  },
  {
   "cell_type": "markdown",
   "metadata": {},
   "source": [
    "![Case tdens=2](../../routing_optimization-master/src/runs/2par_m4/output/data_graph/graph_plot4.jpeg)"
   ]
  },
  {
   "cell_type": "markdown",
   "metadata": {},
   "source": [
    "<img src=\"../../routing_optimization-master/src/runs/2par_m4/output/data_graph/dendrogram.jpeg\" width=\"600\">"
   ]
  },
  {
   "cell_type": "markdown",
   "metadata": {},
   "source": [
    "<img src=\"../../routing_optimization-master/src/runs/2par_m4/output/data_graph/overlapping_graph.jpeg\" width=\"600\">"
   ]
  },
  {
   "cell_type": "markdown",
   "metadata": {},
   "source": [
    "<img src=\"../../routing_optimization-master/src/runs/2par_m4/output/data_graph/overlapping_error.jpeg\" width=\"600\">"
   ]
  },
  {
   "cell_type": "markdown",
   "metadata": {},
   "source": [
    "### Case tdens=-5 (two parabolas)"
   ]
  },
  {
   "cell_type": "markdown",
   "metadata": {},
   "source": [
    "<img src=\"../../routing_optimization-master/src/runs/2par_m5/output/data_graph/tdens.jpeg\" width=\"400\">"
   ]
  },
  {
   "cell_type": "markdown",
   "metadata": {},
   "source": [
    "![Case tdens=2](../../routing_optimization-master/src/runs/2par_m5/output/data_graph/graph_plot5.jpeg)"
   ]
  },
  {
   "cell_type": "markdown",
   "metadata": {},
   "source": [
    "<img src=\"../../routing_optimization-master/src/runs/2par_m5/output/data_graph/dendrogram.jpeg\" width=\"600\">"
   ]
  },
  {
   "cell_type": "markdown",
   "metadata": {},
   "source": [
    "<img src=\"../../routing_optimization-master/src/runs/2par_m5/output/data_graph/overlapping_graph.jpeg\" width=\"600\">"
   ]
  },
  {
   "cell_type": "markdown",
   "metadata": {},
   "source": [
    "<img src=\"../../routing_optimization-master/src/runs/2par_m5/output/data_graph/overlapping_error.jpeg\" width=\"600\">"
   ]
  },
  {
   "cell_type": "markdown",
   "metadata": {},
   "source": [
    "### Case tdens=-6 (four parabolas)"
   ]
  },
  {
   "cell_type": "markdown",
   "metadata": {},
   "source": [
    "<img src=\"../../routing_optimization-master/src/runs/2par_m6/output/data_graph/tdens.jpeg\" width=\"400\">"
   ]
  },
  {
   "cell_type": "markdown",
   "metadata": {},
   "source": [
    "![Case tdens=2](../../routing_optimization-master/src/runs/2par_m6/output/data_graph/graph_plot6.jpeg)"
   ]
  },
  {
   "cell_type": "markdown",
   "metadata": {},
   "source": [
    "<img src=\"../../routing_optimization-master/src/runs/2par_m6/output/data_graph/dendrogram.jpeg\" width=\"600\">"
   ]
  },
  {
   "cell_type": "markdown",
   "metadata": {},
   "source": [
    "<img src=\"../../routing_optimization-master/src/runs/2par_m6/output/data_graph/overlapping_graph.jpeg\" width=\"600\">"
   ]
  },
  {
   "cell_type": "markdown",
   "metadata": {},
   "source": [
    "<img src=\"../../routing_optimization-master/src/runs/2par_m6/output/data_graph/overlapping_error.jpeg\" width=\"600\">"
   ]
  },
  {
   "cell_type": "markdown",
   "metadata": {},
   "source": [
    "### Case tdens=3 (osc funct)"
   ]
  },
  {
   "cell_type": "markdown",
   "metadata": {},
   "source": [
    "![Case tdens=2](../../routing_optimization-master/src/runs/osc_tdens/output/data_graph/graph_plot3.jpeg)"
   ]
  },
  {
   "cell_type": "markdown",
   "metadata": {},
   "source": [
    "<img src=\"../../routing_optimization-master/src/runs/osc_tdens/output/data_graph/dendrogram.jpeg\" width=\"600\">"
   ]
  },
  {
   "cell_type": "markdown",
   "metadata": {},
   "source": [
    "<img src=\"../../routing_optimization-master/src/runs/osc_tdens/output/data_graph/overlapping_graph.jpeg\" width=\"600\">"
   ]
  },
  {
   "cell_type": "markdown",
   "metadata": {},
   "source": [
    "<img src=\"../../routing_optimization-master/src/runs/osc_tdens/output/data_graph/overlapping_error.jpeg\" width=\"600\">"
   ]
  },
  {
   "cell_type": "markdown",
   "metadata": {},
   "source": [
    "### Case tdens=4 (step funct)"
   ]
  },
  {
   "cell_type": "markdown",
   "metadata": {},
   "source": [
    "![Case tdens=2](../../routing_optimization-master/src/runs/2unif_4/output/data_graph/graph_plot4.jpeg)"
   ]
  },
  {
   "cell_type": "markdown",
   "metadata": {},
   "source": [
    "<img src=\"../../routing_optimization-master/src/runs/2unif_4/output/data_graph/dendrogram.jpeg\" width=\"600\">"
   ]
  },
  {
   "cell_type": "markdown",
   "metadata": {},
   "source": [
    "<img src=\"../../routing_optimization-master/src/runs/2unif_4/output/data_graph/overlapping_graph.jpeg\" width=\"600\">"
   ]
  },
  {
   "cell_type": "markdown",
   "metadata": {},
   "source": [
    "<img src=\"../../routing_optimization-master/src/runs/2unif_4/output/data_graph/overlapping_error.jpeg\" width=\"600\">"
   ]
  },
  {
   "cell_type": "markdown",
   "metadata": {},
   "source": [
    "### Case tdens=5"
   ]
  },
  {
   "cell_type": "markdown",
   "metadata": {},
   "source": [
    "<img src=\"../../routing_optimization-master/src/runs/5_tdens/output/data_graph/dendrogram.jpeg\" width=\"600\">"
   ]
  },
  {
   "cell_type": "markdown",
   "metadata": {},
   "source": [
    "<img src=\"../../routing_optimization-master/src/runs/5_tdens/output/data_graph/overlapping_graph.jpeg\" width=\"600\">"
   ]
  },
  {
   "cell_type": "markdown",
   "metadata": {},
   "source": [
    "<img src=\"../../routing_optimization-master/src/runs/5_tdens/output/data_graph/overlapping_error.jpeg\" width=\"600\">"
   ]
  },
  {
   "cell_type": "code",
   "execution_count": null,
   "metadata": {},
   "outputs": [],
   "source": []
  }
 ],
 "metadata": {
  "kernelspec": {
   "display_name": "Python 3",
   "language": "python",
   "name": "python3"
  },
  "language_info": {
   "codemirror_mode": {
    "name": "ipython",
    "version": 3
   },
   "file_extension": ".py",
   "mimetype": "text/x-python",
   "name": "python",
   "nbconvert_exporter": "python",
   "pygments_lexer": "ipython3",
   "version": "3.7.3"
  }
 },
 "nbformat": 4,
 "nbformat_minor": 2
}
